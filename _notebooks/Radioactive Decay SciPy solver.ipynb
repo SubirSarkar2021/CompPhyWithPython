{
 "cells": [
  {
   "cell_type": "code",
   "execution_count": 1,
   "metadata": {},
   "outputs": [],
   "source": [
    "import numpy as np\n",
    "from scipy.integrate import solve_ivp\n",
    "import matplotlib.pyplot as plt"
   ]
  },
  {
   "cell_type": "code",
   "execution_count": 2,
   "metadata": {},
   "outputs": [
    {
     "data": {
      "text/plain": [
       "  message: 'The solver successfully reached the end of the integration interval.'\n",
       "     nfev: 50\n",
       "     njev: 0\n",
       "      nlu: 0\n",
       "      sol: None\n",
       "   status: 0\n",
       "  success: True\n",
       "        t: array([ 0.        ,  0.50505051,  1.01010101,  1.51515152,  2.02020202,\n",
       "        2.52525253,  3.03030303,  3.53535354,  4.04040404,  4.54545455,\n",
       "        5.05050505,  5.55555556,  6.06060606,  6.56565657,  7.07070707,\n",
       "        7.57575758,  8.08080808,  8.58585859,  9.09090909,  9.5959596 ,\n",
       "       10.1010101 , 10.60606061, 11.11111111, 11.61616162, 12.12121212,\n",
       "       12.62626263, 13.13131313, 13.63636364, 14.14141414, 14.64646465,\n",
       "       15.15151515, 15.65656566, 16.16161616, 16.66666667, 17.17171717,\n",
       "       17.67676768, 18.18181818, 18.68686869, 19.19191919, 19.6969697 ,\n",
       "       20.2020202 , 20.70707071, 21.21212121, 21.71717172, 22.22222222,\n",
       "       22.72727273, 23.23232323, 23.73737374, 24.24242424, 24.74747475,\n",
       "       25.25252525, 25.75757576, 26.26262626, 26.76767677, 27.27272727,\n",
       "       27.77777778, 28.28282828, 28.78787879, 29.29292929, 29.7979798 ,\n",
       "       30.3030303 , 30.80808081, 31.31313131, 31.81818182, 32.32323232,\n",
       "       32.82828283, 33.33333333, 33.83838384, 34.34343434, 34.84848485,\n",
       "       35.35353535, 35.85858586, 36.36363636, 36.86868687, 37.37373737,\n",
       "       37.87878788, 38.38383838, 38.88888889, 39.39393939, 39.8989899 ,\n",
       "       40.4040404 , 40.90909091, 41.41414141, 41.91919192, 42.42424242,\n",
       "       42.92929293, 43.43434343, 43.93939394, 44.44444444, 44.94949495,\n",
       "       45.45454545, 45.95959596, 46.46464646, 46.96969697, 47.47474747,\n",
       "       47.97979798, 48.48484848, 48.98989899, 49.49494949, 50.        ])\n",
       " t_events: None\n",
       "        y: array([[1000.        ,  950.74910413,  903.92387058,  859.40486067,\n",
       "         817.07070788,  776.783322  ,  738.45292815,  701.99742918,\n",
       "         667.33639459,  634.39106058,  603.08433006,  573.34077259,\n",
       "         545.08662442,  518.24978851,  492.75983449,  468.54799867,\n",
       "         445.54718404,  423.69196031,  402.91856383,  383.16489768,\n",
       "         364.37053158,  346.47670196,  329.42689251,  313.19208491,\n",
       "         297.74664903,  283.05683553,  269.08966137,  255.81290975,\n",
       "         243.19513016,  231.20563833,  219.81451629,  208.9926123 ,\n",
       "         198.7115409 ,  188.94368292,  179.66218542,  170.84096175,\n",
       "         162.45469152,  154.47882059,  146.88956111,  139.6638915 ,\n",
       "         132.78312711,  126.23600995,  120.00848642,  114.08672632,\n",
       "         108.45721602,  103.10675853,   98.02247344,   93.19179693,\n",
       "          88.60248181,   84.24259745,   80.10052986,   76.16498162,\n",
       "          72.42497193,   68.86983657,   65.48922794,   62.27311503,\n",
       "          59.21178344,   56.29621036,   53.52123051,   50.88136932,\n",
       "          48.37082812,   45.98393985,   43.715169  ,   41.55911165,\n",
       "          39.51049546,   37.56417967,   35.71515508,   33.95854408,\n",
       "          32.28960064,   30.70371031,   29.1963902 ,   27.76328902,\n",
       "          26.40018704,   25.10299612,   23.86776069,   22.69165312,\n",
       "          21.57266388,   20.50836195,   19.49637098,   18.53436927,\n",
       "          17.6200898 ,   16.7513202 ,   15.92590278,   15.14173448,\n",
       "          14.39676695,   13.68900645,   13.01651395,   12.37740504,\n",
       "          11.76985002,   11.19207381,   10.64235602,   10.11903091,\n",
       "           9.62072411,    9.14687696,    8.69637038,    8.26806309,\n",
       "           7.86086232,    7.47372379,    7.10565173,    6.75569886]])\n",
       " y_events: None"
      ]
     },
     "execution_count": 2,
     "metadata": {},
     "output_type": "execute_result"
    }
   ],
   "source": [
    "def model(t, N):\n",
    "    return -lamda*N\n",
    "lamda = 0.1\n",
    "N0 = 1000\n",
    "t  = np.linspace(0, 50, 100)\n",
    "t_span = (t[0], t[-1])\n",
    "y0 = [N0]\n",
    "\n",
    "sol = solve_ivp(model, t_span, y0=[N0], t_eval= t)\n",
    "sol"
   ]
  },
  {
   "cell_type": "code",
   "execution_count": 3,
   "metadata": {},
   "outputs": [
    {
     "data": {
      "image/png": "[encoded data removed]",
      "text/plain": [
       "<Figure size 432x288 with 1 Axes>"
      ]
     },
     "metadata": {
      "needs_background": "light"
     },
     "output_type": "display_data"
    }
   ],
   "source": [
    "N = sol.y[0,:]\n",
    "t = sol.t\n",
    "\n",
    "plt.plot(t, N, ':k')\n",
    "plt.show()"
   ]
  }
 ],
 "metadata": {
  "kernelspec": {
   "display_name": "Python 3",
   "language": "python",
   "name": "python3"
  },
  "language_info": {
   "codemirror_mode": {
    "name": "ipython",
    "version": 3
   },
   "file_extension": ".py",
   "mimetype": "text/x-python",
   "name": "python",
   "nbconvert_exporter": "python",
   "pygments_lexer": "ipython3",
   "version": "3.9.2"
  }
 },
 "nbformat": 4,
 "nbformat_minor": 2
}

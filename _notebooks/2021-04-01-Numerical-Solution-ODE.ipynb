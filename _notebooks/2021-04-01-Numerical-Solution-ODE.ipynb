{
 "cells": [
  {
   "cell_type": "markdown",
   "metadata": {},
   "source": [
    "# A Numerical Approach to Solve Ordinary Differential equation (ODE)"
   ]
  },
  {
   "cell_type": "markdown",
   "metadata": {},
   "source": [
    "Differential equation is perhaps one such mathematical entity which we maximum encounter in any branch of science and technology and without solving it we can not get insight of the system. That is why a robust knowledge of solving differential equation is very much desireable and hence, it is included in the curriculum of undergraduate syllabus of any science discipline. Analytical method of solving differential equation is quite straight forward. But it too fail to crack the problem if it is of complex nature. \n",
    "\n",
    "In that case, numerical technique plays a signifivant role which can solve the problem in its own way. That is why along with the technique of analytical methodlogy theknowledge of numerical technique of solving differential equation is highly desired.\n",
    "\n",
    "In this section, a few numerical technique will be discussed. The most simple, may be the first stepping stone in the pursuit of solving differential equation is the Euler's method."
   ]
  },
  {
   "cell_type": "markdown",
   "metadata": {},
   "source": [
    "Consider the following ODE\n",
    "\\begin{align}\n",
    "\\frac{dy}{dx}=\\frac{y+x}{y-x},\\hspace{0.5cm}y(0)=1\n",
    "\\end{align}\n",
    "Let us find the value $y$ at $x=0.6$, taking the step size = 0.2."
   ]
  },
  {
   "cell_type": "code",
   "execution_count": 49,
   "metadata": {},
   "outputs": [],
   "source": [
    "import numpy as np\n",
    "import matplotlib.pyplot as plt"
   ]
  },
  {
   "cell_type": "markdown",
   "metadata": {},
   "source": [
    "So, first of all discretize the domain of independent variable either by `arange` or `linspace` function of `NumPy`."
   ]
  },
  {
   "cell_type": "code",
   "execution_count": 50,
   "metadata": {},
   "outputs": [],
   "source": [
    "# Discretizing the independent variable 'x'\n",
    "x_init, x_final, step_size = 0, 0.6, 0.2\n",
    "x = np.arange(x_init, x_final+step_size, step_size)"
   ]
  },
  {
   "cell_type": "markdown",
   "metadata": {},
   "source": [
    "Next, we have to create arrays for storing the values of dependent variable. Since, we are trying to visualize the difference between different methods of solving differential equation, we have to create array for each method."
   ]
  },
  {
   "cell_type": "code",
   "execution_count": 51,
   "metadata": {},
   "outputs": [],
   "source": [
    "# Create array for dependent variable 'y'\n",
    "y = np.zeros(len(x))          # array for Euler method\n",
    "y_mod = np.zeros(len(x))      # array for Modified Euler method\n",
    "y_rk2 = np.zeros(len(x))      # array for RK2 method\n",
    "y_rk4 = np.zeros(len(x))      # array for RK4 method\n",
    "y_odeint = np.zeros(len(x))   # array for odeint method\n",
    "\n",
    "# Initialize your variables\n",
    "y[0]     = 1\n",
    "y_mod[0] = 1\n",
    "y_rk2[0] = 1\n",
    "y_rk4[0] = 1\n",
    "y_odeint[0] = 1"
   ]
  },
  {
   "cell_type": "markdown",
   "metadata": {},
   "source": [
    "Next, we have to define a few helper functions. Since, the most essential part of solving differential equation is to estimate the value of slope at the desired point/points, so, we have to define a function which we may call `model`. So, the `model` function in our problem is given by"
   ]
  },
  {
   "cell_type": "code",
   "execution_count": 52,
   "metadata": {},
   "outputs": [],
   "source": [
    "f = lambda y, x: (y+x)/(y-x)  #Slope function\n",
    "\n",
    "def model(y, x):\n",
    "    slope = f(y, x)           # f(x,y) may be repleced by appropriate value according to the problem\n",
    "    return slope"
   ]
  },
  {
   "cell_type": "markdown",
   "metadata": {
    "slideshow": {
     "slide_type": "slide"
    }
   },
   "source": [
    "In the above representation of function definition, one may simply stick to `model` function. The additional `f` function for better clarity, keeping in mind a new learner."
   ]
  },
  {
   "cell_type": "markdown",
   "metadata": {},
   "source": [
    "Consider, the differential equation\n",
    "$$\\frac{dy}{dx}=f(x,y(x))$$\n",
    "\n",
    "The idea of solving a differential equation numerically is to evaluate any future value of the dependent variable $y$ with the known value of independnt varibale $x$, known value of slope, and step-size of the interval, i.e.\n",
    "$$\\text{y_new} = y + \\text{slope}\\times \\text{step-size}$$\n",
    "\n",
    "Suppose, the value of the dependent variable $y_i$ is known at $x_i$ and we want to know the corresponding value at $x_{i+1}$ which is at a distance $h$ apart from $x_i$, then,\n",
    "$$y_{i+1}=y_i + \\frac{dy}{dx}\\Bigr|_{(x_i,y_i)}\\cdot h$$\n",
    "\n",
    "where, $\\frac{dy}{dx}\\Bigr|_{(x_i,y_i)}=f(x_i, y(x_i))$ is known at the point $(x_i, y_i)$. But, the accuracy of the method lies in the value of step-size (h). So, we can define a function `eulerFunc` for evaluating the values of dependent variable $y$ corresponding to the values of dependent variable $x$."
   ]
  },
  {
   "cell_type": "markdown",
   "metadata": {},
   "source": [
    "<img src=\"eulerpic01.png\" width=300 /> "
   ]
  },
  {
   "cell_type": "code",
   "execution_count": 53,
   "metadata": {},
   "outputs": [],
   "source": [
    "def eulerFunc(y, x, h):\n",
    "    y_new = y + model(y, x)*h\n",
    "    return y_new"
   ]
  },
  {
   "cell_type": "markdown",
   "metadata": {},
   "source": [
    "The success of Euler's method which depends heavily on small stepsize ($h$) may amount to long time of evalaution. This limitation may, however, be overcome by evaluating the slopes of the function at $x_i$ and  $x_{i+1}$, and then taking an average of both for calculating the future value at $x_{i+1}$. This is implemented with the following function."
   ]
  },
  {
   "cell_type": "markdown",
   "metadata": {},
   "source": [
    "<img src=\"eulerModpic01.png\" width=300 /> "
   ]
  },
  {
   "cell_type": "code",
   "execution_count": 54,
   "metadata": {},
   "outputs": [],
   "source": [
    "def eulerModFunc(y, x, h):\n",
    "    k1 = model(y, x)            # slope at (x, y)\n",
    "    y_p = y + k1*h              # predicted 'y' value at 'x+h' based on 'k1'\n",
    "    k2 = model(y_p, x+h)        # slope at (x+h, y+h)\n",
    "    k_avg = (k1+k2)/2           # average of the slopes at 'k1' and 'k2'\n",
    "    y_c = y + k_avg*h           # corrected 'y' value at 'x+h' based on 'k_avg'\n",
    "    return y_c"
   ]
  },
  {
   "cell_type": "markdown",
   "metadata": {},
   "source": [
    "Runge Kutta method of second order follows an intermediate path between previous two methods. Here, we first evaluate slope $k_1$ at $x_i$ and then $k_2$ at $x_{i+\\frac{h}{2}}$ with the slope value $k_1$ evaluated at $x_i$. This slope $k_2$ is used to evaluate $y_{i+1}$. We define following function for its implementation."
   ]
  },
  {
   "cell_type": "markdown",
   "metadata": {},
   "source": [
    "<img src=\"rk2pic.png\" width=300 /> "
   ]
  },
  {
   "cell_type": "code",
   "execution_count": 55,
   "metadata": {},
   "outputs": [],
   "source": [
    "def rk2Func(y, x, h):\n",
    "    k1 = model(y, x)\n",
    "    k2 = model(y+k1*h/2, x+h/2)\n",
    "    y_new = y + k2*h\n",
    "    return y_new"
   ]
  },
  {
   "cell_type": "markdown",
   "metadata": {},
   "source": [
    "In the Runge Kutta method of order four, average of slope values evaluated at four different points within the interval $(x_i, x_{i+1})$ is used to calculate $y_{i+1}$ with the known values of $y_i$ at $x_i$."
   ]
  },
  {
   "cell_type": "markdown",
   "metadata": {},
   "source": [
    "<img src=\"rk4pic.png\" width=400 /> "
   ]
  },
  {
   "cell_type": "code",
   "execution_count": 56,
   "metadata": {},
   "outputs": [],
   "source": [
    "def rk4Func(y, x, h):\n",
    "    k1 = model(y, x)\n",
    "    k2 = model(y+k1*h/2, x+h/2)\n",
    "    k3 = model(y+k2*h/2, x+h/2)\n",
    "    k4 = model(y+k3*h, x+h)\n",
    "    k_avg = (k1+2*(k2+k3)+k4)/6\n",
    "    y_new = y + k_avg*h\n",
    "    return y_new"
   ]
  },
  {
   "cell_type": "code",
   "execution_count": 57,
   "metadata": {},
   "outputs": [
    {
     "data": {
      "text/plain": [
       "(array([0. , 0.2, 0.4, 0.6]),\n",
       " array([1.        , 1.2       , 1.48      , 1.82814815]),\n",
       " array([1.        , 1.24      , 1.55008688, 1.91272733]),\n",
       " array([1.        , 1.24      , 1.55126961, 1.91510223]),\n",
       " array([1.        , 1.23923542, 1.54961688, 1.91355796]))"
      ]
     },
     "execution_count": 57,
     "metadata": {},
     "output_type": "execute_result"
    }
   ],
   "source": [
    "# Calculate 'y' values by Euler's method, Modified Euler's method, RK2 and RK4 methods\n",
    "h = step_size\n",
    "for i in range(len(x)-1):\n",
    "    y[i+1]     = eulerFunc(y[i], x[i], h)\n",
    "    y_mod[i+1] = eulerModFunc(y_mod[i], x[i], h)\n",
    "    y_rk2[i+1] = rk2Func(y_rk2[i], x[i], h)\n",
    "    y_rk4[i+1] = rk4Func(y_rk2[i], x[i], h)\n",
    "x, y, y_mod, y_rk2, y_rk4"
   ]
  },
  {
   "cell_type": "markdown",
   "metadata": {},
   "source": [
    "Besides the above mentioned numerical methods, where writing a few lines of coding is required on the part of the user, there is a function called `odeint` under `SciPy` package which can directly solve a differential equation."
   ]
  },
  {
   "cell_type": "code",
   "execution_count": 62,
   "metadata": {},
   "outputs": [
    {
     "data": {
      "text/plain": [
       "array([1.        , 1.23923039, 1.54891242, 1.91148762])"
      ]
     },
     "execution_count": 62,
     "metadata": {},
     "output_type": "execute_result"
    }
   ],
   "source": [
    "from scipy.integrate import odeint\n",
    "y0 = y[0]\n",
    "sol = odeint(model, y0, x)\n",
    "y_odeint = sol[:, 0]\n",
    "y_odeint"
   ]
  },
  {
   "cell_type": "code",
   "execution_count": 67,
   "metadata": {},
   "outputs": [
    {
     "data": {
      "image/png": "[encoded data removed]",
      "text/plain": [
       "<Figure size 720x360 with 1 Axes>"
      ]
     },
     "metadata": {
      "needs_background": "light"
     },
     "output_type": "display_data"
    }
   ],
   "source": [
    "plt.figure(figsize=(10,5))\n",
    "plt.plot(x, y, ls = ':', marker='^', markersize=10, color='red', label='Euler method')\n",
    "plt.plot(x, y_mod, ls = ':', marker='*', markersize=10,  color='blue', label='ModifiedEuler method')\n",
    "plt.plot(x, y_rk2, ls = ':', marker='o', markersize=10, color='green', label='RK2 method')\n",
    "plt.plot(x, y_rk4, ls = ':', marker='<', markersize=10, color='orange', label='RK4 method')\n",
    "plt.plot(x, y_odeint, ls = ':', marker='^', markersize=10, color='purple', label='odeint method')\n",
    "plt.xlabel('x', fontsize=14)\n",
    "plt.ylabel('y(x)', fontsize=14)\n",
    "plt.title('Comaparison of Euler, Modified Euler, RK2, RK4 and odeint Method', fontsize=16)\n",
    "plt.legend(frameon=False, loc='best')\n",
    "plt.show()"
   ]
  },
  {
   "cell_type": "markdown",
   "metadata": {},
   "source": [
    "So, what we see from the above representation that except basic Euler's method, all other methods are equivalent and one may use any one of them."
   ]
  }
 ],
 "metadata": {
  "kernelspec": {
   "display_name": "Python 3",
   "language": "python",
   "name": "python3"
  },
  "language_info": {
   "codemirror_mode": {
    "name": "ipython",
    "version": 3
   },
   "file_extension": ".py",
   "mimetype": "text/x-python",
   "name": "python",
   "nbconvert_exporter": "python",
   "pygments_lexer": "ipython3",
   "version": "3.9.2"
  }
 },
 "nbformat": 4,
 "nbformat_minor": 2
}
